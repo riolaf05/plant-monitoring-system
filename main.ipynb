{
 "cells": [
  {
   "cell_type": "code",
   "execution_count": 1,
   "metadata": {},
   "outputs": [],
   "source": [
    "import os\n",
    "import telebot\n",
    "import time\n",
    "from dotenv import load_dotenv\n",
    "import base64\n",
    "import openai\n",
    "# Load environment variables\n",
    "load_dotenv('.env')\n",
    "load_dotenv(\".env.orion\", override=True)\n",
    "from tools.image import image\n",
    "from tools.temperature import temperature\n",
    "from tools.moisture import moisture\n",
    "from tools.watering import watering\n",
    "# from utils.composio import composio_tools\n",
    "from llm import initialize_llm\n",
    "from langchain_core.messages import (\n",
    "    HumanMessage,\n",
    "    SystemMessage,\n",
    ")\n",
    "from langgraph.prebuilt import create_react_agent\n",
    "import logging\n",
    "import logging_loki  # !pip install python-logging-loki\n",
    "# from utils.telegram import send_telegram_message"
   ]
  },
  {
   "cell_type": "code",
   "execution_count": 2,
   "metadata": {},
   "outputs": [
    {
     "data": {
      "text/plain": [
       "[('temperature', 5), ('temperature', 6), ('temperature', 7)]"
      ]
     },
     "execution_count": 2,
     "metadata": {},
     "output_type": "execute_result"
    }
   ],
   "source": [
    "# Tools setup\n",
    "tools = [image, temperature, moisture]\n",
    "\n",
    "# image.run()\n",
    "\n",
    "temperature=temperature.run(\"start\")\n",
    "moisture=moisture.run(\"start\")\n",
    "temperature"
   ]
  },
  {
   "cell_type": "code",
   "execution_count": null,
   "metadata": {},
   "outputs": [],
   "source": []
  }
 ],
 "metadata": {
  "kernelspec": {
   "display_name": "pms",
   "language": "python",
   "name": "python3"
  },
  "language_info": {
   "codemirror_mode": {
    "name": "ipython",
    "version": 3
   },
   "file_extension": ".py",
   "mimetype": "text/x-python",
   "name": "python",
   "nbconvert_exporter": "python",
   "pygments_lexer": "ipython3",
   "version": "3.12.4"
  }
 },
 "nbformat": 4,
 "nbformat_minor": 2
}
